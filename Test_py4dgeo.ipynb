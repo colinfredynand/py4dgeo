{
 "cells": [
  {
   "cell_type": "code",
   "execution_count": 1,
   "id": "c2f50be4-de5b-4f55-bcb1-e65b5131217b",
   "metadata": {},
   "outputs": [],
   "source": [
    "import _py4dgeo\n"
   ]
  },
  {
   "cell_type": "code",
   "execution_count": 3,
   "id": "d8c4d0c6-87de-49fa-8b59-400a0b3f7e82",
   "metadata": {},
   "outputs": [],
   "source": [
    "import numpy as np"
   ]
  },
  {
   "cell_type": "code",
   "execution_count": 6,
   "id": "2e04a309-4ec0-477b-b31a-2a218518f1e5",
   "metadata": {},
   "outputs": [],
   "source": [
    "pc = np.array([[0, 0, 0], [1,1,1], [2,2,2]], dtype=np.float64)"
   ]
  },
  {
   "cell_type": "code",
   "execution_count": null,
   "id": "6b042ebd-c227-4912-8b26-2e4777f03077",
   "metadata": {},
   "outputs": [],
   "source": []
  },
  {
   "cell_type": "code",
   "execution_count": 7,
   "id": "ce019702-9d47-424a-8565-f44425ca3662",
   "metadata": {},
   "outputs": [],
   "source": [
    "octree = _py4dgeo.Octree(pc)"
   ]
  },
  {
   "cell_type": "code",
   "execution_count": 12,
   "id": "3e61e4d1-874f-4bcf-bb0a-e19b5e2a41a8",
   "metadata": {},
   "outputs": [],
   "source": [
    "octree.build_tree(2)"
   ]
  },
  {
   "cell_type": "code",
   "execution_count": 14,
   "id": "1d1fb557-6e64-4d38-8d6a-d11afe7e9727",
   "metadata": {},
   "outputs": [
    {
     "data": {
      "text/plain": [
       "array([0, 1, 2])"
      ]
     },
     "execution_count": 14,
     "metadata": {},
     "output_type": "execute_result"
    }
   ],
   "source": [
    "octree.radius_search(np.array([1,1,1], dtype=np.float64), 3.0)"
   ]
  },
  {
   "cell_type": "code",
   "execution_count": null,
   "id": "a4d971df-4f4c-46e6-b4d5-8d4fdfacad51",
   "metadata": {},
   "outputs": [],
   "source": []
  }
 ],
 "metadata": {
  "kernelspec": {
   "display_name": "Python 3 (ipykernel)",
   "language": "python",
   "name": "python3"
  },
  "language_info": {
   "codemirror_mode": {
    "name": "ipython",
    "version": 3
   },
   "file_extension": ".py",
   "mimetype": "text/x-python",
   "name": "python",
   "nbconvert_exporter": "python",
   "pygments_lexer": "ipython3",
   "version": "3.12.7"
  }
 },
 "nbformat": 4,
 "nbformat_minor": 5
}
